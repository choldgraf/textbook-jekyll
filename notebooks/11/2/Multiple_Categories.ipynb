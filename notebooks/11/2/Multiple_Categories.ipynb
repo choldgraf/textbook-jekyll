{
 "cells": [
  {
   "cell_type": "code",
   "execution_count": 1,
   "metadata": {
    "collapsed": false
   },
   "outputs": [],
   "source": [
    "# HIDDEN\n",
    "from datascience import *\n",
    "%matplotlib inline\n",
    "path_data = '../../../data/'\n",
    "import matplotlib.pyplot as plots\n",
    "plots.style.use('fivethirtyeight')\n",
    "import numpy as np"
   ]
  },
  {
   "cell_type": "code",
   "execution_count": 2,
   "metadata": {
    "collapsed": true
   },
   "outputs": [],
   "source": [
    "# HIDDEN\n",
    "def proportions_from_distribution(table, label, sample_size):\n",
    "    proportions = np.random.multinomial(sample_size, table.column(label))/sample_size\n",
    "    return table.with_column('Random Sample', proportions)"
   ]
  },
  {
   "cell_type": "markdown",
   "metadata": {},
   "source": [
    "### Multiple Categories ###\n",
    "We have developed a way of assessing models about chance processes that generate data in two categories. The method extends to models involving data in multiple categories. The process of assessment is the same as before, the only difference being that we have to come up with a new statistic to simulate.\n",
    "\n",
    "Let's do this in an example that addresses the same kind of question that was raised in the case of Robert Swain's jury panel. This time, the data are more recent."
   ]
  },
  {
   "cell_type": "markdown",
   "metadata": {},
   "source": [
    "### Jury Selection in Alameda County ###\n",
    "\n",
    "In 2010, the American Civil Liberties Union (ACLU) of Northern California presented a [report](https://www.aclunc.org/sites/default/files/racial_and_ethnic_disparities_in_alameda_county_jury_pools.pdf \"ACLU_NC report\") on jury selection in Alameda County, California. The report concluded that certain ethnic groups are underrepresented among jury panelists in Alameda County, and suggested some reforms of the process by which eligible jurors are assigned to panels. In this section, we will perform our own analysis of the data and examine some questions that arise as a result.\n",
    "\n",
    "Some details about jury panels and juries will be helpful in interpreting the results of our analysis."
   ]
  },
  {
   "cell_type": "markdown",
   "metadata": {},
   "source": [
    "### Jury Panels ###\n",
    "\n",
    "A jury panel is a group of people chosen to be prospective jurors; the final trial jury is selected from among them. Jury panels can consist of a few dozen people or several thousand, depending on the trial. By law, a jury panel is supposed to be representative of the community in which the trial is taking place. Section 197 of California's Code of Civil Procedure says, \"All persons selected for jury service shall be selected at random, from a source or sources inclusive of a representative cross section of the population of the area served by the court.\"\n",
    "\n",
    "The final jury is selected from the panel by deliberate inclusion or exclusion. The law allows potential jurors to be excused for medical reasons; lawyers on both sides may strike a certain number of potential jurors from the list in what are called \"peremptory challenges\"; the trial judge might make a selection based on questionnaires filled out by the panel; and so on. But the initial panel is supposed to resemble a random sample of the population of eligible jurors."
   ]
  },
  {
   "cell_type": "markdown",
   "metadata": {},
   "source": [
    "### Composition of Panels in Alameda County ###\n",
    "\n",
    "The focus of the study by the ACLU of Northern California was the ethnic composition of jury panels in Alameda County. The ACLU compiled data on the ethnic composition of the jury panels in 11 felony trials in Alameda County in the years 2009 and 2010. In those panels, the total number of people who reported for jury service was 1,453. The ACLU gathered demographic data on all of these prosepctive jurors, and compared those data with the composition of all eligible jurors in the county. \n",
    "\n",
    "The data are tabulated below in a table called ``jury``. For each ethnicity, the first value is the proportion of all eligible juror candidates of that ethnicity. The second value is the proportion of people of that ethnicity among those who appeared for the process of selection into the jury."
   ]
  },
  {
   "cell_type": "code",
   "execution_count": 3,
   "metadata": {
    "collapsed": false
   },
   "outputs": [
    {
     "data": {
      "text/html": [
       "<table border=\"1\" class=\"dataframe\">\n",
       "    <thead>\n",
       "        <tr>\n",
       "            <th>Ethnicity</th> <th>Eligible</th> <th>Panels</th>\n",
       "        </tr>\n",
       "    </thead>\n",
       "    <tbody>\n",
       "        <tr>\n",
       "            <td>Asian    </td> <td>0.15    </td> <td>0.26  </td>\n",
       "        </tr>\n",
       "        <tr>\n",
       "            <td>Black    </td> <td>0.18    </td> <td>0.08  </td>\n",
       "        </tr>\n",
       "        <tr>\n",
       "            <td>Latino   </td> <td>0.12    </td> <td>0.08  </td>\n",
       "        </tr>\n",
       "        <tr>\n",
       "            <td>White    </td> <td>0.54    </td> <td>0.54  </td>\n",
       "        </tr>\n",
       "        <tr>\n",
       "            <td>Other    </td> <td>0.01    </td> <td>0.04  </td>\n",
       "        </tr>\n",
       "    </tbody>\n",
       "</table>"
      ],
      "text/plain": [
       "Ethnicity | Eligible | Panels\n",
       "Asian     | 0.15     | 0.26\n",
       "Black     | 0.18     | 0.08\n",
       "Latino    | 0.12     | 0.08\n",
       "White     | 0.54     | 0.54\n",
       "Other     | 0.01     | 0.04"
      ]
     },
     "execution_count": 3,
     "metadata": {},
     "output_type": "execute_result"
    }
   ],
   "source": [
    "jury = Table().with_columns(\n",
    "    'Ethnicity', make_array('Asian', 'Black', 'Latino', 'White', 'Other'),\n",
    "    'Eligible', make_array(0.15, 0.18, 0.12, 0.54, 0.01),\n",
    "    'Panels', make_array(0.26, 0.08, 0.08, 0.54, 0.04)\n",
    ")\n",
    "\n",
    "jury"
   ]
  },
  {
   "cell_type": "markdown",
   "metadata": {},
   "source": [
    "Some ethnicities are overrepresented and some are underrepresented on the jury panels in the study. A bar chart is helpful for visualizing the differences."
   ]
  },
  {
   "cell_type": "code",
   "execution_count": 4,
   "metadata": {
    "collapsed": false
   },
   "outputs": [
    {
     "data": {
      "image/png": "[encoded data removed]",
      "text/plain": [
       "<Figure size 432x288 with 1 Axes>"
      ]
     },
     "metadata": {},
     "output_type": "display_data"
    }
   ],
   "source": [
    "jury.barh('Ethnicity')"
   ]
  },
  {
   "cell_type": "markdown",
   "metadata": {},
   "source": [
    "### Comparison with Panels Selected at Random ###\n",
    "What if we select a random sample of 1,453 people from the population of eligible jurors? Will the distribution of their ethnicities look like the distribution of the panels above?\n",
    "\n",
    "We can answer these questions by using `sample_proportions` and augmenting the `jury` table with a column of the proportions in our sample.\n",
    "\n",
    "**Technical note.** Random samples of prospective jurors would be selected without replacement. However, when the size of a sample is small relative to the size of the population, sampling without replacement resembles sampling with replacement; the proportions in the population don't change much between draws. The population of eligible jurors in Alameda County is over a million, and compared to that, a sample size of about 1500 is quite small. We will therefore sample with replacement.\n",
    "\n",
    "In the cell below, we sample at random 1453 times from the distribution of eligible jurors, and display the distribution of the random sample along with the distributions of the eligible jurors and the panel in the data."
   ]
  },
  {
   "cell_type": "code",
   "execution_count": 5,
   "metadata": {
    "collapsed": false
   },
   "outputs": [
    {
     "data": {
      "text/html": [
       "<table border=\"1\" class=\"dataframe\">\n",
       "    <thead>\n",
       "        <tr>\n",
       "            <th>Ethnicity</th> <th>Eligible</th> <th>Panels</th> <th>Random Sample</th>\n",
       "        </tr>\n",
       "    </thead>\n",
       "    <tbody>\n",
       "        <tr>\n",
       "            <td>Asian    </td> <td>0.15    </td> <td>0.26  </td> <td>0.150723     </td>\n",
       "        </tr>\n",
       "        <tr>\n",
       "            <td>Black    </td> <td>0.18    </td> <td>0.08  </td> <td>0.166552     </td>\n",
       "        </tr>\n",
       "        <tr>\n",
       "            <td>Latino   </td> <td>0.12    </td> <td>0.08  </td> <td>0.133517     </td>\n",
       "        </tr>\n",
       "        <tr>\n",
       "            <td>White    </td> <td>0.54    </td> <td>0.54  </td> <td>0.538885     </td>\n",
       "        </tr>\n",
       "        <tr>\n",
       "            <td>Other    </td> <td>0.01    </td> <td>0.04  </td> <td>0.0103235    </td>\n",
       "        </tr>\n",
       "    </tbody>\n",
       "</table>"
      ],
      "text/plain": [
       "Ethnicity | Eligible | Panels | Random Sample\n",
       "Asian     | 0.15     | 0.26   | 0.150723\n",
       "Black     | 0.18     | 0.08   | 0.166552\n",
       "Latino    | 0.12     | 0.08   | 0.133517\n",
       "White     | 0.54     | 0.54   | 0.538885\n",
       "Other     | 0.01     | 0.04   | 0.0103235"
      ]
     },
     "execution_count": 5,
     "metadata": {},
     "output_type": "execute_result"
    }
   ],
   "source": [
    "eligible_population = jury.column('Eligible')\n",
    "sample_distribution = sample_proportions(1453, eligible_population)\n",
    "panels_and_sample = jury.with_column('Random Sample', sample_distribution)\n",
    "panels_and_sample"
   ]
  },
  {
   "cell_type": "markdown",
   "metadata": {},
   "source": [
    "The distribution of the random sample is quite close to the distribution of the eligible population, unlike the distribution of the panels.\n",
    "\n",
    "As always, it helps to visualize."
   ]
  },
  {
   "cell_type": "code",
   "execution_count": 6,
   "metadata": {
    "collapsed": false
   },
   "outputs": [
    {
     "data": {
      "image/png": "[encoded data removed]",
      "text/plain": [
       "<Figure size 432x288 with 1 Axes>"
      ]
     },
     "metadata": {},
     "output_type": "display_data"
    }
   ],
   "source": [
    "panels_and_sample.barh('Ethnicity')"
   ]
  },
  {
   "cell_type": "markdown",
   "metadata": {},
   "source": [
    "The bar chart shows that the distribution of the random sample resembles the eligible population but the distribution of the panels does not."
   ]
  },
  {
   "cell_type": "markdown",
   "metadata": {},
   "source": [
    "To assess whether this observation is particular to one random sample or more general, we can  simulate multiple panels under the model of random selection and see what the simulations predict. But we won't be able to look at thousands of bar charts like the one above. We need a statistic that will help us assess whether or not the model or random selection is supported by the data."
   ]
  },
  {
   "cell_type": "markdown",
   "metadata": {},
   "source": [
    "### A New Statistic: The Distance between Two Distributions ###\n",
    "We know how to measure how different two numbers are – if the numbers are $x$ and $y$, the distance between them is $\\vert x-y \\vert$. Now we have to quantify the distance between two distributions. For example, we have to measure the distance between the blue and gold distributions below."
   ]
  },
  {
   "cell_type": "code",
   "execution_count": 7,
   "metadata": {
    "collapsed": false
   },
   "outputs": [
    {
     "data": {
      "image/png": "[encoded data removed]",
      "text/plain": [
       "<Figure size 432x288 with 1 Axes>"
      ]
     },
     "metadata": {},
     "output_type": "display_data"
    }
   ],
   "source": [
    "jury.barh('Ethnicity')"
   ]
  },
  {
   "cell_type": "markdown",
   "metadata": {},
   "source": [
    "For this we will compute a quantity called the *total variation distance* between two distributions. The calculation is as an extension of the calculation of the distance between two numbers.\n",
    "\n",
    "To compute the total variation distance, we first take the difference between the two proportions in each category."
   ]
  },
  {
   "cell_type": "code",
   "execution_count": 8,
   "metadata": {
    "collapsed": false
   },
   "outputs": [
    {
     "data": {
      "text/html": [
       "<table border=\"1\" class=\"dataframe\">\n",
       "    <thead>\n",
       "        <tr>\n",
       "            <th>Ethnicity</th> <th>Eligible</th> <th>Panels</th> <th>Difference</th>\n",
       "        </tr>\n",
       "    </thead>\n",
       "    <tbody>\n",
       "        <tr>\n",
       "            <td>Asian    </td> <td>0.15    </td> <td>0.26  </td> <td>0.11      </td>\n",
       "        </tr>\n",
       "        <tr>\n",
       "            <td>Black    </td> <td>0.18    </td> <td>0.08  </td> <td>-0.1      </td>\n",
       "        </tr>\n",
       "        <tr>\n",
       "            <td>Latino   </td> <td>0.12    </td> <td>0.08  </td> <td>-0.04     </td>\n",
       "        </tr>\n",
       "        <tr>\n",
       "            <td>White    </td> <td>0.54    </td> <td>0.54  </td> <td>0         </td>\n",
       "        </tr>\n",
       "        <tr>\n",
       "            <td>Other    </td> <td>0.01    </td> <td>0.04  </td> <td>0.03      </td>\n",
       "        </tr>\n",
       "    </tbody>\n",
       "</table>"
      ],
      "text/plain": [
       "Ethnicity | Eligible | Panels | Difference\n",
       "Asian     | 0.15     | 0.26   | 0.11\n",
       "Black     | 0.18     | 0.08   | -0.1\n",
       "Latino    | 0.12     | 0.08   | -0.04\n",
       "White     | 0.54     | 0.54   | 0\n",
       "Other     | 0.01     | 0.04   | 0.03"
      ]
     },
     "execution_count": 8,
     "metadata": {},
     "output_type": "execute_result"
    }
   ],
   "source": [
    "# Augment the table with a column of differences between proportions\n",
    "\n",
    "jury_with_diffs = jury.with_column(\n",
    "    'Difference', jury.column('Panels') - jury.column('Eligible')\n",
    ")\n",
    "jury_with_diffs"
   ]
  },
  {
   "cell_type": "markdown",
   "metadata": {},
   "source": [
    "Take a look at the column `Difference` and notice that the sum of its entries is 0: the positive entries add up to 0.14, exactly canceling the total of the negative entries which is -0.14. \n",
    "\n",
    "This is numerical evidence of the fact that in the bar chart, the gold bars exceed the blue bars by exactly as much as the blue bars exceed the gold. The proportions in each of the two columns ``Panels`` and ``Eligible`` add up to 1, and so the give-and-take between their entries must add up to 0. \n",
    "\n",
    "To avoid the cancellation, we drop the negative signs and then add all the entries. But this gives us two times the total of the positive entries (equivalently, two times the total of the negative entries, with the sign removed). So we divide the sum by 2."
   ]
  },
  {
   "cell_type": "code",
   "execution_count": 9,
   "metadata": {
    "collapsed": false
   },
   "outputs": [
    {
     "data": {
      "text/html": [
       "<table border=\"1\" class=\"dataframe\">\n",
       "    <thead>\n",
       "        <tr>\n",
       "            <th>Ethnicity</th> <th>Eligible</th> <th>Panels</th> <th>Difference</th> <th>Absolute Difference</th>\n",
       "        </tr>\n",
       "    </thead>\n",
       "    <tbody>\n",
       "        <tr>\n",
       "            <td>Asian    </td> <td>0.15    </td> <td>0.26  </td> <td>0.11      </td> <td>0.11               </td>\n",
       "        </tr>\n",
       "        <tr>\n",
       "            <td>Black    </td> <td>0.18    </td> <td>0.08  </td> <td>-0.1      </td> <td>0.1                </td>\n",
       "        </tr>\n",
       "        <tr>\n",
       "            <td>Latino   </td> <td>0.12    </td> <td>0.08  </td> <td>-0.04     </td> <td>0.04               </td>\n",
       "        </tr>\n",
       "        <tr>\n",
       "            <td>White    </td> <td>0.54    </td> <td>0.54  </td> <td>0         </td> <td>0                  </td>\n",
       "        </tr>\n",
       "        <tr>\n",
       "            <td>Other    </td> <td>0.01    </td> <td>0.04  </td> <td>0.03      </td> <td>0.03               </td>\n",
       "        </tr>\n",
       "    </tbody>\n",
       "</table>"
      ],
      "text/plain": [
       "Ethnicity | Eligible | Panels | Difference | Absolute Difference\n",
       "Asian     | 0.15     | 0.26   | 0.11       | 0.11\n",
       "Black     | 0.18     | 0.08   | -0.1       | 0.1\n",
       "Latino    | 0.12     | 0.08   | -0.04      | 0.04\n",
       "White     | 0.54     | 0.54   | 0          | 0\n",
       "Other     | 0.01     | 0.04   | 0.03       | 0.03"
      ]
     },
     "execution_count": 9,
     "metadata": {},
     "output_type": "execute_result"
    }
   ],
   "source": [
    "jury_with_diffs = jury_with_diffs.with_column(\n",
    "    'Absolute Difference', np.abs(jury_with_diffs.column('Difference'))\n",
    ")\n",
    "\n",
    "jury_with_diffs"
   ]
  },
  {
   "cell_type": "code",
   "execution_count": 10,
   "metadata": {
    "collapsed": false
   },
   "outputs": [
    {
     "data": {
      "text/plain": [
       "0.14"
      ]
     },
     "execution_count": 10,
     "metadata": {},
     "output_type": "execute_result"
    }
   ],
   "source": [
    "jury_with_diffs.column('Absolute Difference').sum()/2"
   ]
  },
  {
   "cell_type": "markdown",
   "metadata": {},
   "source": [
    "This quantity 0.14 is the *total variation distance* (TVD) between the distribution of ethnicities in the eligible juror population and the distribution in the panels.\n",
    "\n",
    "We could have obtained the same result by just adding the positive differences. But our method of including all the absolute differences eliminates the need to keep track of which differences are positive and which are not."
   ]
  },
  {
   "cell_type": "markdown",
   "metadata": {},
   "source": [
    "### Simulating One Value of the Statistic ###\n",
    "We will use the total variation distance between distributions as the statistic to simulate. It will help us decide whether the model of random selection is good, because large values of the distance will be evidence against the model.\n",
    "\n",
    "Keep in mind that **the observed value of our statistic is 0.14**, calculated above.\n",
    "\n",
    "Since we are going to be computing total variation distance repeatedly, we will write a function to compute it.\n",
    "\n",
    "The function `total_variation_distance` returns the TVD between distributions in two arrays."
   ]
  },
  {
   "cell_type": "code",
   "execution_count": 11,
   "metadata": {
    "collapsed": true
   },
   "outputs": [],
   "source": [
    "def total_variation_distance(distribution_1, distribution_2):\n",
    "    return sum(np.abs(distribution_1 - distribution_2)) / 2"
   ]
  },
  {
   "cell_type": "markdown",
   "metadata": {},
   "source": [
    "This function will help us calculate our statistic in each repetition of the simulation. But first, let's check that it gives the right answer when we use it to compute the distance between the blue (eligible) and gold (panels) distributions above."
   ]
  },
  {
   "cell_type": "code",
   "execution_count": 12,
   "metadata": {
    "collapsed": false
   },
   "outputs": [
    {
     "data": {
      "text/plain": [
       "0.14"
      ]
     },
     "execution_count": 12,
     "metadata": {},
     "output_type": "execute_result"
    }
   ],
   "source": [
    "total_variation_distance(jury.column('Panels'), jury.column('Eligible'))"
   ]
  },
  {
   "cell_type": "markdown",
   "metadata": {},
   "source": [
    "This agrees with the value that we computed directly without using the function.\n",
    "\n",
    "In the cell below we use the function to compute the TVD between the distributions of the eligible jurors and one random sample. This is the code for simulating one value of our statistic. Recall that `eligible_population` is the array containing the distribution of the eligible jurors."
   ]
  },
  {
   "cell_type": "code",
   "execution_count": 13,
   "metadata": {
    "collapsed": false
   },
   "outputs": [
    {
     "data": {
      "text/plain": [
       "0.010426703372333118"
      ]
     },
     "execution_count": 13,
     "metadata": {},
     "output_type": "execute_result"
    }
   ],
   "source": [
    "sample_distribution = sample_proportions(1453, eligible_population)\n",
    "total_variation_distance(sample_distribution, eligible_population)"
   ]
  },
  {
   "cell_type": "markdown",
   "metadata": {},
   "source": [
    "Notice that the distance is quite a bit smaller than 0.14, the distance between the distribution of the panels and the eligible jurors.\n",
    "\n",
    "We are now ready to run a simulation to assess the model of random selection."
   ]
  },
  {
   "cell_type": "markdown",
   "metadata": {},
   "source": [
    "### Predicting the Statistic Under the Model of Random Selection ###\n",
    "The total variation distance between the distributions of the random sample and the eligible jurors is the statistic that we are using to measure the distance between the two distributions. By repeating the process of sampling, we can see how much the statistic varies across different random samples. \n",
    "\n",
    "The code below simulates the statistic based on a large number of replications of the random sampling process, following our usual sequence of steps for simulation. The body of the `for` loop repeats the code we used to simulate one value of the statistics, and then appends the simulated value to the collection array `tvds`."
   ]
  },
  {
   "cell_type": "code",
   "execution_count": 14,
   "metadata": {
    "collapsed": false
   },
   "outputs": [],
   "source": [
    "# Simulate total variation distance between\n",
    "# distribution of sample selected at random\n",
    "# and distribution of eligible population\n",
    "\n",
    "eligible_population = jury.column('Eligible')\n",
    "panel_size = 1453\n",
    "\n",
    "tvds = make_array()\n",
    "\n",
    "repetitions = 5000\n",
    "for i in np.arange(repetitions):\n",
    "    sample_distribution = sample_proportions(panel_size, eligible_population)\n",
    "    new_tvd = total_variation_distance(sample_distribution, eligible_population)\n",
    "    tvds = np.append(tvds, new_tvd)"
   ]
  },
  {
   "cell_type": "markdown",
   "metadata": {},
   "source": [
    "The empirical histogram of the simulated distances shows that drawing 1453 jurors at random from the pool of eligible candidates results in a distribution that rarely deviates from the eligible jurors' race distribution by more than about 0.05."
   ]
  },
  {
   "cell_type": "code",
   "execution_count": 15,
   "metadata": {
    "collapsed": false
   },
   "outputs": [
    {
     "name": "stderr",
     "output_type": "stream",
     "text": [
      "/home/choldgraf/anaconda/envs/dev/lib/python3.6/site-packages/matplotlib/axes/_axes.py:6462: UserWarning: The 'normed' kwarg is deprecated, and has been replaced by the 'density' kwarg.\n",
      "  warnings.warn(\"The 'normed' kwarg is deprecated, and has been \"\n"
     ]
    },
    {
     "data": {
      "image/png": "[encoded data removed]",
      "text/plain": [
       "<Figure size 432x288 with 1 Axes>"
      ]
     },
     "metadata": {},
     "output_type": "display_data"
    }
   ],
   "source": [
    "Table().with_column('TVD', tvds).hist(bins=np.arange(0, 0.2, 0.005))"
   ]
  },
  {
   "cell_type": "markdown",
   "metadata": {},
   "source": [
    "### Assessing the Model of Random Selection ###\n",
    "\n",
    "The panels in the study, however, were not quite so similar to the eligible population. The total variation distance between the panels and the population was 0.14, which is far out in the tail of the histogram above. It does not look at all like a typical distance between a random sample and the eligible population.\n",
    "\n",
    "The data in the panels is not consistent with the predicted values of the statistic based on the model of random selection. So our analysis supports the ACLU's calculation that the panels were not representative of the distribution provided for the eligible jurors. "
   ]
  },
  {
   "cell_type": "markdown",
   "metadata": {},
   "source": [
    "### Some Possible Explanations for the Differences ###\n",
    "As with most such analyses, however, our analysis does not say *why* the distributions are different or what the difference might imply.\n",
    "\n",
    "The ACLU report discusses several possible reasons for the discrepancies. For example, some minority groups were underrepresented on the records of voter registration and of the Department of Motor Vehicles, the two main sources from which jurors are selected. At the time of the study, the county did not have an effective process for following up on prospective jurors who had been called but had failed to appear. The ACLU listed several other reasons as well. Whatever the reasons, it seems clear that the composition of the jury panels was different from what we would have expected in a random sample from the distribution in the `Eligible` column."
   ]
  },
  {
   "cell_type": "markdown",
   "metadata": {},
   "source": [
    "### Questions about the Data ###\n",
    "We have developed a powerful technique that helps decide whether one distribution looks like a random sample from another. But data science is about more than techniques. In particular, data science always involves a thoughtful examination of how the data were gathered.\n",
    "\n",
    "**Eligible Jurors.** First, it is important to remember that not everyone is eligible to serve on a jury. On its [website](http://www.alameda.courts.ca.gov/pages.aspx/jury-duty-overview), the Superior Court of Alameda County says, \"You may be called to serve if you are 18 years old, a U.S. citizen and a resident of the county or district where summoned. You must be able to understand English, and be physically and mentally capable of serving. In addition, you must not have served as any kind of juror in the past 12 months, nor have been convicted of a felony.\"\n",
    "\n",
    "The Census doesn't maintain records of the populations in all these categories. Thus the ACLU had to obtain the demographics of eligible jurors in some other way. Here is their own description of the process they followed and some flaws that it might contain.\n",
    "\n",
    "\"For the purpose of determining the demographics of Alameda County’s jury eligible population, we used a declaration that was prepared for the Alameda County trial of People v. Stuart Alexander in 2002. In the declaration, Professor Weeks, a demographer at San Diego State University, estimated the jury eligible population for Alameda County, using the 2000 Census data. To arrive at this estimate, Professor Weeks took into account the number of people who are not eligible for jury services because they do not speak English, are not citizens, are under 18, or have a felony conviction. Thus, his estimate should be an accurate assessment of who is actually eligible for jury service in Alameda County, much more so than simply reviewing the Census report of the race and ethnicity of all people living in Alameda County. It should be noted, however, that the Census data on which Professor Weeks relied is now ten years old and the demographics of the county may have changed by two or three percent in some categories.\"\n",
    "\n",
    "Thus the distribution of ethnicities of eligible jurors used in the analysis is itself an estimate and might be somewhat out of date.\n",
    "\n",
    "**Panels.** In addition, panels aren't selected from the entire eligible population. The Superior Court of Alameda County says, \"The objective of the court is to provide an accurate cross-section of the county's population. The names of jurors are selected at random from everyone who is a registered voter and/or has a driver's license or identification card issued by the Department of Motor Vehicles.\"\n",
    "\n",
    "All of this raises complex questions about how to accurately estimate the ethnic composition of eligible jurors in Alameda County. \n",
    "\n",
    "It is not clear exactly how the 1453 panelists were classified into the different ethnic categories (the ACLU report says that \"attorneys ... cooperated in collecting jury pool data\"). There are serious social, cultural, and political factors that affect who gets classified or self-classifies into each ethnic category. We also don't know whether the definitions of those categories in the panels are the same as those used by Professor Weeks who in turn used Census categories in his estimation process. Thus there are also questions about the correspondence between the two distributions being compared.\n",
    "\n",
    "Thus, while we have a clear conclusion about the data in our table – the panels do not look like a random sample from the distribution provided for eligible jurors – questions about the nature of the data prevent us from concluding anything broader."
   ]
  }
 ],
 "metadata": {
  "anaconda-cloud": {},
  "kernelspec": {
   "display_name": "Python [Root]",
   "language": "python",
   "name": "Python [Root]"
  },
  "language_info": {
   "codemirror_mode": {
    "name": "ipython",
    "version": 3
   },
   "file_extension": ".py",
   "mimetype": "text/x-python",
   "name": "python",
   "nbconvert_exporter": "python",
   "pygments_lexer": "ipython3",
   "version": "3.5.2"
  }
 },
 "nbformat": 4,
 "nbformat_minor": 0
}
